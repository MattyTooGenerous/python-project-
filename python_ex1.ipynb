{
  "nbformat": 4,
  "nbformat_minor": 0,
  "metadata": {
    "colab": {
      "provenance": []
    },
    "kernelspec": {
      "name": "python3",
      "display_name": "Python 3"
    },
    "language_info": {
      "name": "python"
    }
  },
  "cells": [
    {
      "cell_type": "markdown",
      "source": [
        "### **Python Basics Exercise 1**"
      ],
      "metadata": {
        "id": "WavzXiU6pqYs"
      }
    },
    {
      "cell_type": "markdown",
      "source": [
        "\n",
        "## Exercise 1: Printing\n",
        "### Task:\n",
        "Print the following message: \"Hello, Python!\""
      ],
      "metadata": {
        "id": "1K092Tujp0S-"
      }
    },
    {
      "cell_type": "code",
      "source": [
        "print(\"Hello, Python!\")"
      ],
      "metadata": {
        "colab": {
          "base_uri": "https://localhost:8080/"
        },
        "id": "drvra7Tsrhw-",
        "outputId": "2626d7cb-1ed0-4681-c007-1b276be6fa8a"
      },
      "execution_count": null,
      "outputs": [
        {
          "output_type": "stream",
          "name": "stdout",
          "text": [
            "Hello, Python!\n"
          ]
        }
      ]
    },
    {
      "cell_type": "markdown",
      "source": [
        "## Exercise 2: Variables and Data Types\n",
        "### Task:\n",
        "Create a variable `name` and assign it your name as a string. Then, print it."
      ],
      "metadata": {
        "id": "-An4H9_atBHP"
      }
    },
    {
      "cell_type": "code",
      "source": [
        "name = \"John Doe\"\n",
        "print(name)"
      ],
      "metadata": {
        "colab": {
          "base_uri": "https://localhost:8080/"
        },
        "id": "tr9X_rzytCzv",
        "outputId": "a5966a72-e81e-4c49-f942-786ad8f1ddf0"
      },
      "execution_count": null,
      "outputs": [
        {
          "output_type": "stream",
          "name": "stdout",
          "text": [
            "Your Name\n"
          ]
        }
      ]
    },
    {
      "cell_type": "markdown",
      "source": [
        "## Exercise 3: User Input\n",
        "### Task:\n",
        "Ask the user to enter their favorite color and store it in a variable. Then, print \"Your favorite color is ___\""
      ],
      "metadata": {
        "id": "CLzw6wNQtQhm"
      }
    },
    {
      "cell_type": "code",
      "source": [
        "name = input(\"What is your name? \")\n",
        "print(\"Hello, \" + name + \"!\")"
      ],
      "metadata": {
        "id": "B-T9UA-etV6_"
      },
      "execution_count": null,
      "outputs": []
    },
    {
      "cell_type": "markdown",
      "source": [
        "## Exercise 4: Simple Conditionals\n",
        "### Task:\n",
        "Write a program that asks the user for their age. If they are 18 or older, print \"You are an adult\". Otherwise, print \"You are a minor\"."
      ],
      "metadata": {
        "id": "96LdlrHStuBw"
      }
    },
    {
      "cell_type": "code",
      "source": [
        "age = int(input(\"Enter your age: \"))\n",
        "if age >= 18:\n",
        "    print(\"You are an adult.\")\n",
        "else:\n",
        "    print(\"You are a minor.\")"
      ],
      "metadata": {
        "colab": {
          "base_uri": "https://localhost:8080/"
        },
        "id": "hbaWtMfqtvZb",
        "outputId": "0bceb756-8ad1-4b50-c24c-889ea7cc901a"
      },
      "execution_count": null,
      "outputs": [
        {
          "output_type": "stream",
          "name": "stdout",
          "text": [
            "Enter your age: 18\n",
            "You are an adult\n"
          ]
        }
      ]
    },
    {
      "cell_type": "markdown",
      "source": [
        "## Exercise 5: Even or Odd\n",
        "### Task:\n",
        "Ask the user to enter a number. Check if the number is even or odd and print the result."
      ],
      "metadata": {
        "id": "YcSYS6jTtz4-"
      }
    },
    {
      "cell_type": "code",
      "source": [
        "number = int(input(\"Enter a number: \"))\n",
        "if number % 2 == 0:\n",
        "    print(\"The number is even.\")\n",
        "else:\n",
        "    print(\"The number is odd.\")"
      ],
      "metadata": {
        "id": "NyFdva-jt38F"
      },
      "execution_count": null,
      "outputs": []
    },
    {
      "cell_type": "markdown",
      "source": [
        "## Exercise 6: For Loop\n",
        "### Task:\n",
        "Write a for loop that prints the numbers from 1 to 5."
      ],
      "metadata": {
        "id": "M9_wpBLmuBN7"
      }
    },
    {
      "cell_type": "code",
      "source": [
        "numbers = [1, 2, 3, 4, 5]\n",
        "for number in numbers:\n",
        "    print(number)"
      ],
      "metadata": {
        "colab": {
          "base_uri": "https://localhost:8080/"
        },
        "id": "58YhJqvduGzf",
        "outputId": "edd37e29-0b90-46f7-da8f-15253189c291"
      },
      "execution_count": null,
      "outputs": [
        {
          "output_type": "stream",
          "name": "stdout",
          "text": [
            "1\n",
            "2\n",
            "3\n",
            "4\n",
            "5\n"
          ]
        }
      ]
    },
    {
      "cell_type": "markdown",
      "source": [
        "## Exercise 7: While Loop\n",
        "### Task:\n",
        "Write a while loop that prints numbers from 1 to 5."
      ],
      "metadata": {
        "id": "Tvvw7QLnuLVz"
      }
    },
    {
      "cell_type": "code",
      "source": [
        "number = 1\n",
        "while number <= 5:\n",
        "    print(number)\n",
        "    number += 1"
      ],
      "metadata": {
        "id": "fLaorZLFuOlv"
      },
      "execution_count": null,
      "outputs": []
    },
    {
      "cell_type": "markdown",
      "source": [
        "## Exercise 8: Sum of Numbers\n",
        "### Task:\n",
        "Write a loop that calculates and prints the sum of numbers from 1 to 10."
      ],
      "metadata": {
        "id": "AUcAuhZZuTQT"
      }
    },
    {
      "cell_type": "code",
      "source": [
        "numbers = [1, 2, 3, 4, 5, 6, 7, 8, 9, 10]\n",
        "total = 0\n",
        "for number in numbers:\n",
        "    total += number"
      ],
      "metadata": {
        "colab": {
          "base_uri": "https://localhost:8080/"
        },
        "id": "ev3EHm1duW62",
        "outputId": "cec67a48-c959-460b-a9c4-6a0328e3033b"
      },
      "execution_count": null,
      "outputs": [
        {
          "output_type": "stream",
          "name": "stdout",
          "text": [
            "Sum: 55\n"
          ]
        }
      ]
    },
    {
      "cell_type": "markdown",
      "source": [
        "## Exercise 9: FizzBuzz\n",
        "### Task:\n",
        "Write a program that prints numbers from 1 to 20.\n",
        "- If a number is divisible by 3, print \"Fizz\" instead.\n",
        "- If a number is divisible by 5, print \"Buzz\" instead.\n",
        "- If a number is divisible by both 3 and 5, print \"FizzBuzz\"."
      ],
      "metadata": {
        "id": "GDSmiDsIucex"
      }
    },
    {
      "cell_type": "code",
      "source": [],
      "metadata": {
        "id": "n1dKRLrgudjv",
        "outputId": "e84c27b8-0d42-4e70-ddcc-2a324460daa3",
        "colab": {
          "base_uri": "https://localhost:8080/"
        }
      },
      "execution_count": null,
      "outputs": [
        {
          "output_type": "stream",
          "name": "stdout",
          "text": [
            "1\n",
            "2\n",
            "Fizz\n",
            "4\n",
            "Buzz\n",
            "Fizz\n",
            "7\n",
            "8\n",
            "Fizz\n",
            "Buzz\n",
            "11\n",
            "Fizz\n",
            "13\n",
            "14\n",
            "FizzBuzz\n",
            "16\n",
            "17\n",
            "Fizz\n",
            "19\n",
            "Buzz\n"
          ]
        }
      ]
    }
  ]
}