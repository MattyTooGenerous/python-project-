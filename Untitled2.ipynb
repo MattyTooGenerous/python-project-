{
  "nbformat": 4,
  "nbformat_minor": 0,
  "metadata": {
    "colab": {
      "provenance": [],
      "authorship_tag": "ABX9TyMXDHOHPk+7y+4VKfzrpfX2",
      "include_colab_link": true
    },
    "kernelspec": {
      "name": "python3",
      "display_name": "Python 3"
    },
    "language_info": {
      "name": "python"
    }
  },
  "cells": [
    {
      "cell_type": "markdown",
      "metadata": {
        "id": "view-in-github",
        "colab_type": "text"
      },
      "source": [
        "<a href=\"https://colab.research.google.com/github/MattyTooGenerous/python-project-/blob/main/Untitled2.ipynb\" target=\"_parent\"><img src=\"https://colab.research.google.com/assets/colab-badge.svg\" alt=\"Open In Colab\"/></a>"
      ]
    },
    {
      "cell_type": "code",
      "execution_count": null,
      "metadata": {
        "id": "EpXLGp8dx1jm"
      },
      "outputs": [],
      "source": [
        "\n",
        "# Python Functions\n",
        "\n",
        "def add(num1, num2):\n",
        "    return num1 + num2\n",
        "\n",
        "print(add(3, 4))\n",
        "sum = add(3,4)\n",
        "print(sum)\n",
        "print(add(12, 2332))\n",
        "print(add(2123, 233223))\n",
        "\n",
        "\n",
        "#Lists and Loops\n",
        "fruits = [\"apple\", \"banana\", \"cherry\"]\n",
        "print(fruits)\n",
        "print(fruits[0])\n",
        "print(fruits[1])\n",
        "print(fruits[2])\n",
        "\n",
        "list_length = len(fruits)\n",
        "print(\"the length of the fruits array is = \", list_length)\n",
        "# len(name of the list) this gives you the length of the list\n",
        "\n",
        "for i in fruits:\n",
        "    # fruit 1 = apple\n",
        "    # fruit 2 = banana\n",
        "    # fruit 3 = cherry\n",
        "\n",
        "    print('fruit = ', i)\n",
        "\n",
        "    # Dictonary\n",
        "person1 = {\"name\": \"John\", \"age\": 25, \"employed\": True, \"marks\": [90, 80, 70]}\n",
        "print(person1)\n",
        "print(person1[\"name\"])\n",
        "print(person1[\"age\"])\n",
        "print(person1[\"employed\"])\n",
        "print(person1[\"marks\"])\n",
        "print(person1[\"marks\"][0])\n",
        "print(person1[\"marks\"][1])\n",
        "print(person1[\"marks\"][2])\n",
        "\n",
        "# key - vaue pairs\n",
        "# key = name, value = John"
      ]
    },
    {
      "cell_type": "code",
      "source": [
        "num1 = int(input(\"enter number 1\"))\n",
        "num2 = int(input(\"enter number 2\"))\n",
        "print(num1)\n",
        "print(num2)\n",
        "def times(num1, num2):\n",
        "  return num1 * num2\n",
        "\n",
        "print(times(3,4))\n",
        "print(times(4,6))\n",
        "print(times(2,5))\n",
        "\n",
        "BikeInfo = {\"colour\": \"black\", \"year\": 2019, \"Model\": \"Suzuki\"}\n",
        "print(BikeInfo)\n",
        "print(BikeInfo[\"colour\"])\n",
        "print(BikeInfo[\"year\"])\n",
        "print(BikeInfo[\"Model\"])\n"
      ],
      "metadata": {
        "colab": {
          "base_uri": "https://localhost:8080/"
        },
        "id": "jgeRLZ0xx9fX",
        "outputId": "21a03428-cb65-45fd-ce12-89d481ff5859"
      },
      "execution_count": 5,
      "outputs": [
        {
          "output_type": "stream",
          "name": "stdout",
          "text": [
            "enter number 12\n",
            "enter number 22\n",
            "2\n",
            "2\n",
            "12\n",
            "24\n",
            "10\n",
            "{'colour': 'black', 'year': 2019, 'Model': 'Suzuki'}\n",
            "black\n",
            "2019\n",
            "Suzuki\n"
          ]
        }
      ]
    }
  ]
}