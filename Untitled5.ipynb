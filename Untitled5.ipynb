{
  "nbformat": 4,
  "nbformat_minor": 0,
  "metadata": {
    "colab": {
      "provenance": [],
      "authorship_tag": "ABX9TyNcOxreZspftaijy46HPgRC",
      "include_colab_link": true
    },
    "kernelspec": {
      "name": "python3",
      "display_name": "Python 3"
    },
    "language_info": {
      "name": "python"
    }
  },
  "cells": [
    {
      "cell_type": "markdown",
      "metadata": {
        "id": "view-in-github",
        "colab_type": "text"
      },
      "source": [
        "<a href=\"https://colab.research.google.com/github/MattyTooGenerous/python-project-/blob/main/Untitled5.ipynb\" target=\"_parent\"><img src=\"https://colab.research.google.com/assets/colab-badge.svg\" alt=\"Open In Colab\"/></a>"
      ]
    },
    {
      "cell_type": "code",
      "execution_count": 10,
      "metadata": {
        "colab": {
          "base_uri": "https://localhost:8080/"
        },
        "id": "p6WC0SlGFwtV",
        "outputId": "9d96d862-b31c-4344-b66d-16512c3ddd87"
      },
      "outputs": [
        {
          "output_type": "stream",
          "name": "stdout",
          "text": [
            "8\n",
            "5.0\n",
            "8.0\n",
            "experimental of 2: 7.38905609893065\n",
            "natural log of 10: 2.302585092994046\n",
            "log base 10 of 100: 2.0\n",
            "absolute value of -25: 25.0\n",
            "factorial of 5: 120\n",
            "1.0471975511965976\n",
            "sin of 60: 0.8660254037844386\n",
            "cos of 60: 0.5000000000000001\n",
            "tan of 60: 1.7320508075688767\n",
            "arcsin or sin inverse :  59.99999999999999\n",
            "arccos or sin inverse :  59.99999999999999\n",
            "arctan or sin inverse :  59.99999999999999\n"
          ]
        }
      ],
      "source": [
        "import math\n",
        "print(2**3)\n",
        "\n",
        "\n",
        "\n",
        "print(math.sqrt(25))\n",
        "\n",
        "\n",
        "print(math.pow(2,3))\n",
        "\n",
        "\n",
        "print(\"experimental of 2:\", math.exp(2))\n",
        "\n",
        "print(\"natural log of 10:\", math.log(10))\n",
        "\n",
        "print(\"log base 10 of 100:\", math.log(100,10))\n",
        "\n",
        "\n",
        "print(\"absolute value of -25:\", math.fabs(-25))\n",
        "\n",
        "\n",
        "print(\"factorial of 5:\", math.factorial(5))\n",
        "\n",
        "\n",
        "angle = 60\n",
        "radians = math.radians(angle)\n",
        "print(radians)\n",
        "\n",
        "print(\"sin of 60:\", math.sin(radians))\n",
        "print(\"cos of 60:\", math.cos(radians))\n",
        "print(\"tan of 60:\", math.tan(radians))\n",
        "\n",
        "print('arcsin or sin inverse : ', math.degrees(math.asin(0.8660254037844386)))\n",
        "print('arccos or sin inverse : ', math.degrees(math.acos(0.5000000000000001)))\n",
        "print('arctan or sin inverse : ', math.degrees(math.atan(1.7320508075688767)))\n",
        "\n",
        "print(\"Value of Pi:\", math.pi)\n",
        "print(\"Value of E:\",  math.e)\n",
        "print(\"Value of Tau:\", math.tau)\n",
        "print(\"Infinity:\", math.inf)\n",
        "print(\"Not a number \", math.nan)\n",
        "\n",
        "#convert 60 DEg to radius\n",
        "#calculate tan cos sin60\n",
        "#calculate inverse from these values\n",
        "#convert back to degrees"
      ]
    }
  ]
}